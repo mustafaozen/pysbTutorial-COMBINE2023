{
 "cells": [
  {
   "cell_type": "markdown",
   "id": "05a67200",
   "metadata": {},
   "source": [
    "# Example: Truncation of Bid from Caspase8 - Bid complex\n",
    "\n",
    "## Casp8 + Bid <--> Casp8-Bid --> Casp8 + tBid"
   ]
  },
  {
   "cell_type": "code",
   "execution_count": null,
   "id": "90651edd",
   "metadata": {},
   "outputs": [],
   "source": [
    "# import the pysb module\n"
   ]
  },
  {
   "cell_type": "code",
   "execution_count": null,
   "id": "2c1fca18",
   "metadata": {},
   "outputs": [],
   "source": [
    "# instantiate a model\n"
   ]
  },
  {
   "cell_type": "markdown",
   "id": "c77a9479",
   "metadata": {},
   "source": [
    "#### Define monomers:"
   ]
  },
  {
   "cell_type": "code",
   "execution_count": null,
   "id": "0ee1ad3b",
   "metadata": {},
   "outputs": [],
   "source": [
    "# Casp8 with a binding site 'b'\n"
   ]
  },
  {
   "cell_type": "code",
   "execution_count": null,
   "id": "2e14618c",
   "metadata": {},
   "outputs": [],
   "source": [
    "# Bid with binding sites 'b' and 's', where 's' has two states 'u' and 't' \n"
   ]
  },
  {
   "cell_type": "markdown",
   "id": "33bf88bd",
   "metadata": {},
   "source": [
    "#### Define parameters:"
   ]
  },
  {
   "cell_type": "code",
   "execution_count": null,
   "id": "364b8bf2",
   "metadata": {},
   "outputs": [],
   "source": [
    "# forward Casp8-Bid complexation rate kf = 10^(-7)\n"
   ]
  },
  {
   "cell_type": "code",
   "execution_count": null,
   "id": "e2939ff3",
   "metadata": {},
   "outputs": [],
   "source": [
    "# backward Casp8-Bid complexation rate kb = 10^(-3)\n"
   ]
  },
  {
   "cell_type": "code",
   "execution_count": null,
   "id": "11a905c8",
   "metadata": {},
   "outputs": [],
   "source": [
    "# Casp8-Bid dissociation rate to return the original Casp8 and Bid in truncation, kd = 1\n"
   ]
  },
  {
   "cell_type": "markdown",
   "id": "ff313b6a",
   "metadata": {},
   "source": [
    "#### Define rules:"
   ]
  },
  {
   "cell_type": "code",
   "execution_count": null,
   "id": "cb1c470d",
   "metadata": {},
   "outputs": [],
   "source": [
    "# Unbound Casp8 binds to unbound Bid in 'u' state, which is a reversable complexation\n"
   ]
  },
  {
   "cell_type": "code",
   "execution_count": null,
   "id": "0af9e961",
   "metadata": {},
   "outputs": [],
   "source": [
    "# One way dissociation reaction to return the original Casp8 and Bid but in truncation\n"
   ]
  },
  {
   "cell_type": "markdown",
   "id": "d05e376d",
   "metadata": {},
   "source": [
    "#### Define initial conditions:"
   ]
  },
  {
   "cell_type": "code",
   "execution_count": null,
   "id": "598bf6d8",
   "metadata": {},
   "outputs": [],
   "source": [
    "# Initialize unbound Casp8 with a value 1000\n"
   ]
  },
  {
   "cell_type": "code",
   "execution_count": null,
   "id": "6365461e",
   "metadata": {},
   "outputs": [],
   "source": [
    "# Initialize unbound uBid with a value 10000\n"
   ]
  },
  {
   "cell_type": "markdown",
   "id": "0304371e",
   "metadata": {},
   "source": [
    "#### Define observables:"
   ]
  },
  {
   "cell_type": "code",
   "execution_count": null,
   "id": "5d618d5e",
   "metadata": {},
   "outputs": [],
   "source": [
    "# freeCasp8\n"
   ]
  },
  {
   "cell_type": "code",
   "execution_count": null,
   "id": "69c0f292",
   "metadata": {},
   "outputs": [],
   "source": [
    "# freeBid\n"
   ]
  },
  {
   "cell_type": "code",
   "execution_count": null,
   "id": "0fbbb11f",
   "metadata": {},
   "outputs": [],
   "source": [
    "# truncatedBid\n"
   ]
  },
  {
   "cell_type": "code",
   "execution_count": null,
   "id": "011542cd",
   "metadata": {},
   "outputs": [],
   "source": [
    "# totalBid\n"
   ]
  },
  {
   "cell_type": "markdown",
   "id": "97c84e9e",
   "metadata": {},
   "source": [
    "#### Simulate the model:"
   ]
  },
  {
   "cell_type": "code",
   "execution_count": null,
   "id": "f543d372",
   "metadata": {},
   "outputs": [],
   "source": [
    "# Import simulator\n",
    "from pysb.simulator import ScipyOdeSimulator\n",
    "from pylab import *"
   ]
  },
  {
   "cell_type": "code",
   "execution_count": null,
   "id": "2ce27118",
   "metadata": {},
   "outputs": [],
   "source": [
    "# Run simulator (2e4 sec)\n"
   ]
  },
  {
   "cell_type": "code",
   "execution_count": null,
   "id": "ef724003",
   "metadata": {},
   "outputs": [],
   "source": [
    "# plot the results\n",
    "%matplotlib inline\n",
    "import matplotlib.pyplot as plt\n",
    "\n",
    "plt.legend(loc=0)\n",
    "plt.xlabel(\"Time (s)\")\n",
    "plt.ylabel(\"Molecules/cell\")\n",
    "plt.show()"
   ]
  }
 ],
 "metadata": {
  "kernelspec": {
   "display_name": "Python 3 (ipykernel)",
   "language": "python",
   "name": "python3"
  },
  "language_info": {
   "codemirror_mode": {
    "name": "ipython",
    "version": 3
   },
   "file_extension": ".py",
   "mimetype": "text/x-python",
   "name": "python",
   "nbconvert_exporter": "python",
   "pygments_lexer": "ipython3",
   "version": "3.9.12"
  }
 },
 "nbformat": 4,
 "nbformat_minor": 5
}
