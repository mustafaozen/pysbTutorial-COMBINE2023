{
 "cells": [
  {
   "cell_type": "markdown",
   "id": "05a67200",
   "metadata": {},
   "source": [
    "# Example: Truncation of Bid from Caspase8 - Bid complex\n",
    "\n",
    "## Casp8 + Bid <--> Casp8-Bid --> Casp8 + tBid"
   ]
  },
  {
   "cell_type": "code",
   "execution_count": 1,
   "id": "90651edd",
   "metadata": {},
   "outputs": [],
   "source": [
    "# import the pysb module\n",
    "from pysb import *"
   ]
  },
  {
   "cell_type": "code",
   "execution_count": 2,
   "id": "2c1fca18",
   "metadata": {},
   "outputs": [
    {
     "data": {
      "text/plain": [
       "<Model '_interactive_' (monomers: 0, rules: 0, parameters: 0, expressions: 0, compartments: 0) at 0x7f7a58afeb20>"
      ]
     },
     "execution_count": 2,
     "metadata": {},
     "output_type": "execute_result"
    }
   ],
   "source": [
    "# instantiate a model\n",
    "Model()"
   ]
  },
  {
   "cell_type": "code",
   "execution_count": 3,
   "id": "0ee1ad3b",
   "metadata": {},
   "outputs": [
    {
     "data": {
      "text/plain": [
       "Monomer('Bid', ['b', 's'], {'s': ['u', 't']})"
      ]
     },
     "execution_count": 3,
     "metadata": {},
     "output_type": "execute_result"
    }
   ],
   "source": [
    "# declare monomers\n",
    "# Casp8 with a binding site 'b'\n",
    "Monomer('Casp8', ['b'])\n",
    "# Bid with binding sites 'b' and 's', where 's' has two states 'u' and 't' \n",
    "Monomer('Bid', ['b', 's'], {'s': ['u', 't']})"
   ]
  },
  {
   "cell_type": "code",
   "execution_count": 4,
   "id": "364b8bf2",
   "metadata": {},
   "outputs": [
    {
     "data": {
      "text/latex": [
       "$\\displaystyle kd$"
      ],
      "text/plain": [
       "Parameter('kd', 1.0)"
      ]
     },
     "execution_count": 4,
     "metadata": {},
     "output_type": "execute_result"
    }
   ],
   "source": [
    "# input the reaction parameters\n",
    "# forward Casp8-Bid complexation rate kf = 10^(-7)\n",
    "Parameter('kf', 1e-7)\n",
    "# backward Casp8-Bid complexation rate kb = 10^(-3)\n",
    "Parameter('kb', 1e-3)\n",
    "# Casp8-Bid dissociation rate to return the original Casp8 and Bid in truncation, kd = 1\n",
    "Parameter('kd', 1)"
   ]
  },
  {
   "cell_type": "code",
   "execution_count": 5,
   "id": "cb1c470d",
   "metadata": {},
   "outputs": [
    {
     "data": {
      "text/plain": [
       "Rule('tBid_from_Casp8Bid', Casp8(b=1) % Bid(b=1, s='u') >> Casp8(b=None) + Bid(b=None, s='t'), kd)"
      ]
     },
     "execution_count": 5,
     "metadata": {},
     "output_type": "execute_result"
    }
   ],
   "source": [
    "# input the rules\n",
    "# Unbound Casp8 binds to unbound Bid in 'u' state, which is a reversable complexation\n",
    "Rule('Casp8_binds_Bid', Casp8(b=None) + Bid(b=None, s='u') | Casp8(b=1)%Bid(b=1, s='u'), kf, kb)\n",
    "# One way dissociation reaction to return the original Casp8 and Bid but in truncation\n",
    "Rule('tBid_from_Casp8Bid', Casp8(b=1)%Bid(b=1, s='u') >> Casp8(b=None) + Bid(b=None, s='t'), kd)"
   ]
  },
  {
   "cell_type": "code",
   "execution_count": 6,
   "id": "598bf6d8",
   "metadata": {},
   "outputs": [
    {
     "data": {
      "text/plain": [
       "Initial(Bid(b=None, s='u'), initBid)"
      ]
     },
     "execution_count": 6,
     "metadata": {},
     "output_type": "execute_result"
    }
   ],
   "source": [
    "# Initial conditions\n",
    "# Initialize unbound Casp8 with a value 1000\n",
    "Parameter('initCasp8', 1000)\n",
    "Initial(Casp8(b=None), initCasp8)\n",
    "# Initialize unbound Bid with a value 10000\n",
    "Initial(Bid(b=None, s='u'), Parameter('initBid', 10000))"
   ]
  },
  {
   "cell_type": "code",
   "execution_count": 7,
   "id": "5d618d5e",
   "metadata": {},
   "outputs": [
    {
     "data": {
      "text/latex": [
       "$\\displaystyle totalBid$"
      ],
      "text/plain": [
       "Observable('totalBid', Bid())"
      ]
     },
     "execution_count": 7,
     "metadata": {},
     "output_type": "execute_result"
    }
   ],
   "source": [
    "# Observables\n",
    "Observable('freeCasp8', Casp8(b=None))\n",
    "Observable('freeBid', Bid(b=None, s='u'))\n",
    "Observable('truncatedBid', Bid(b=None, s='t'))\n",
    "Observable('totalBid', Bid())"
   ]
  },
  {
   "cell_type": "code",
   "execution_count": 8,
   "id": "f543d372",
   "metadata": {},
   "outputs": [],
   "source": [
    "# Run the simulator\n",
    "from pysb.simulator import ScipyOdeSimulator\n",
    "from pylab import *\n",
    "\n",
    "# Simulate model\n",
    "time = linspace(0, 20000) # in seconds \n",
    "sim = ScipyOdeSimulator(model, tspan = time).run()\n",
    "simResults = sim.all # an array of observables "
   ]
  },
  {
   "cell_type": "code",
   "execution_count": 9,
   "id": "ef724003",
   "metadata": {},
   "outputs": [
    {
     "data": {
      "image/png": "[encoded data removed]",
      "text/plain": [
       "<Figure size 432x288 with 1 Axes>"
      ]
     },
     "metadata": {
      "needs_background": "light"
     },
     "output_type": "display_data"
    }
   ],
   "source": [
    "# plot the results\n",
    "%matplotlib inline\n",
    "import matplotlib.pyplot as plt\n",
    "\n",
    "plt.plot(time, simResults['freeCasp8'], label='Unbound Caspase 8')\n",
    "plt.plot(time, simResults['freeBid'], label='Unbound Bid')\n",
    "plt.plot(time, simResults['truncatedBid'], label='Truncated Bid')\n",
    "plt.plot(time, simResults['totalBid'], label='Total Bid')\n",
    "plt.legend(loc=0)\n",
    "plt.xlabel(\"Time (s)\")\n",
    "plt.ylabel(\"Molecules/cell\")\n",
    "plt.show()"
   ]
  },
  {
   "cell_type": "code",
   "execution_count": null,
   "id": "7e0e464e",
   "metadata": {},
   "outputs": [],
   "source": []
  }
 ],
 "metadata": {
  "kernelspec": {
   "display_name": "Python 3 (ipykernel)",
   "language": "python",
   "name": "python3"
  },
  "language_info": {
   "codemirror_mode": {
    "name": "ipython",
    "version": 3
   },
   "file_extension": ".py",
   "mimetype": "text/x-python",
   "name": "python",
   "nbconvert_exporter": "python",
   "pygments_lexer": "ipython3",
   "version": "3.9.12"
  }
 },
 "nbformat": 4,
 "nbformat_minor": 5
}
