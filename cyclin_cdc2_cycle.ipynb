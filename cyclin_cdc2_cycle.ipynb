{
 "cells": [
  {
   "cell_type": "markdown",
   "id": "56c985ca",
   "metadata": {},
   "source": [
    "# Modeling Cdc2 - Cyclin interactions\n",
    "\n",
    "This workshop aims to provide attendees hands-on experince with PySB. This example demonstrates how one can implement and simulate a biological system model using PySB. In this example, a simple model of cyclin - cdc2 cycle will be implemented and simulated."
   ]
  },
  {
   "cell_type": "markdown",
   "id": "cb2f17ba",
   "metadata": {},
   "source": [
    "## Background\n",
    "\n",
    "### Simplified Cdc2 - Cyclin interaction model:\n",
    "Cdc2 and Cyclin controls major events in cell cycle. Activation of Cdc2/Cyclin complexes is responsible for mitosis. For the biological details and the model, see [Tyson, 1991](https://doi.org/10.1073/pnas.88.16.7328). The following diagram demonstrates the model details:  \n",
    "\n",
    "<img src=\"cdc2_cyclin_model.png\" width=\"800\" height=\"1200\">\n",
    "\n",
    "\n",
    "#### Interaction steps:\n",
    "    (1): Cyclin is synthesized de novo: \n",
    "        (None --> cyclin)\n",
    "    (2): Newly synthesized cyclin may be unstable: \n",
    "        (cyclin --> None)\n",
    "    (3): Cyclin binds to cdc2-P to form \"pre-Maturation Promoting Factor (MPF). At some point after heterodimer formation, the cyclin subunit is phosphorylated: \n",
    "        (cyclin + cdc2-P --> cyclin-P:cdc2-P)\n",
    "    (4-5): The cdc2 subunit is then reversibly dephosphorylated to form active-MPF: \n",
    "        (cyclin-P:cdc2-P <--> cyclin-P:cdc2)\n",
    "    (Dashed-arrow): Two active-MPF enhance the catalytic activity of the phosphatase: \n",
    "        (cyclin-P:cdc2 + cyclin-P:cdc2 + cyclin-P:cdc2-P --> cyclin-P:cdc2 + cyclin-P:cdc2 + cyclin-P:cdc2)\n",
    "    (6): Nuclear division is triggered when a sufficient quantity of MPF has been activated and concurrently active MPF is destroyed: \n",
    "        (cyclin-P:cdc2 --> cyclin-P + cdc2)\n",
    "    (7): After breakdown of the MPF complex, released phosphorylated cyclin is subject to rapid proteolysis: \n",
    "        (cyclin-P --> None)\n",
    "    (8-9): The cdc2 subunit is reversibly phosphorylated, and the cycle repeats itself: \n",
    "        (cdc2 <--> cdc2-P)\n",
    "\n",
    "### Instructions\n",
    "Create the \"species\" of the model, represented as `Monomers` in PySB:\n",
    "    \n",
    "    cyclin: it can have two states (unphospho and phospho) and it can bind to cdc2\n",
    "    cdc2: it can have two states (unphospho and phospho) and it can bind to cyclin\n",
    "    \n",
    "Parameters: (note that the following parameter values are computed considering cell volume = 1e-20 and Avogadro constant = 6.02214076e+23)\n",
    "\n",
    "    'k1': cyclin synthesis rate, 90.33 (Step1)\n",
    "    'k2': unstable cyclin degredation rate, 1e-10 (Step 2)\n",
    "    'k3': cyclin:cdc2-p binding rate (pre-MPF formation), 3.32e-2 (Step 3)\n",
    "    'k4': MPF activation rate, 1.8e-2 (Step 4)\n",
    "    'k5': MPF inactivation rate, 1e-10 (Step 5)\n",
    "    'k_dash': Autocatalysis rate, 9.9266e-6\n",
    "    'k6': cyclin-P:cdc2 dissociation rate, 1 (Step 6)\n",
    "    'k7': cyclin-P degredation rate, 1e1 (Step 7)\n",
    "    'k8': cdc2 phosphorylation rate, 1e6 (Step 8)\n",
    "    'k9': cdc2 dephosphorylation rate, 1e3 (Step 9)\n",
    "    \n",
    "Initial values:\n",
    "    \n",
    "    cyclin: Assume initially there exists 1500 copies of unphosphorylated free cyclin\n",
    "    cdc2: Assume initially there exists 6000 copies of phosphorylated free cdc2\n",
    "    \n",
    "Outputs: \n",
    "\n",
    "    Track total cyclin and active cyclin (i.e., the active MPF)\n",
    "\n",
    "Please read and underrstand the model and type PySB commands to represent this system. Then, simulate the system for `0 to 100 mins` considering `10000` time-point samples. You can use the [PySB Tutorial](https://pysb.readthedocs.io/en/stable/tutorial.html#) for explanations and examples of the individual model components."
   ]
  },
  {
   "cell_type": "code",
   "execution_count": null,
   "id": "18ccdc17",
   "metadata": {},
   "outputs": [],
   "source": [
    "# import the pysb module:\n"
   ]
  },
  {
   "cell_type": "code",
   "execution_count": null,
   "id": "46a462ff",
   "metadata": {},
   "outputs": [],
   "source": [
    "# instantiate a model:\n"
   ]
  },
  {
   "cell_type": "markdown",
   "id": "c4826aa9",
   "metadata": {},
   "source": [
    "## Declare Monomers\n",
    "\n",
    "Monomers are the components whose behavior is intended to be modeled in the system."
   ]
  },
  {
   "cell_type": "code",
   "execution_count": null,
   "id": "3f14b732",
   "metadata": {},
   "outputs": [],
   "source": [
    "# declare monomer for cyclin:\n",
    "# Hint: cyclin has one binding site and can be in two states.\n"
   ]
  },
  {
   "cell_type": "code",
   "execution_count": null,
   "id": "7f26ea39",
   "metadata": {},
   "outputs": [],
   "source": [
    "# declare monomer for cdc2: \n",
    "# Hint: cdc2 has one binding site and can be in two states.\n"
   ]
  },
  {
   "cell_type": "markdown",
   "id": "2cbf85db",
   "metadata": {},
   "source": [
    "## Declare Parameters\n",
    "\n",
    "The parameters are the rate constants of the model."
   ]
  },
  {
   "cell_type": "code",
   "execution_count": null,
   "id": "9cff3865",
   "metadata": {},
   "outputs": [],
   "source": [
    "# define k1 (cyclin synthesis rate: 90.33): \n"
   ]
  },
  {
   "cell_type": "code",
   "execution_count": null,
   "id": "fc885578",
   "metadata": {},
   "outputs": [],
   "source": [
    "# define k2 (unstable cyclin degredation rate: 1e-10): \n"
   ]
  },
  {
   "cell_type": "code",
   "execution_count": null,
   "id": "bed4cfe5",
   "metadata": {},
   "outputs": [],
   "source": [
    "# define k3 (cyclin:cdc2-p binding rate: 3.32e-2): \n"
   ]
  },
  {
   "cell_type": "code",
   "execution_count": null,
   "id": "39d2ae62",
   "metadata": {},
   "outputs": [],
   "source": [
    "# define k4 (MPF activation rate: 1.8e-2): \n"
   ]
  },
  {
   "cell_type": "code",
   "execution_count": null,
   "id": "8bf82b32",
   "metadata": {},
   "outputs": [],
   "source": [
    "# define k5 (MPF inactivation rate: 1e-10): \n"
   ]
  },
  {
   "cell_type": "code",
   "execution_count": null,
   "id": "8954edad",
   "metadata": {},
   "outputs": [],
   "source": [
    "# define k_dash (Autocatalysis rate: 9.9266e-6): \n"
   ]
  },
  {
   "cell_type": "code",
   "execution_count": null,
   "id": "c2767ef5",
   "metadata": {},
   "outputs": [],
   "source": [
    "# define k6 (cyclin-P:cdc2 dissociation rate: 1): \n"
   ]
  },
  {
   "cell_type": "code",
   "execution_count": null,
   "id": "5b4e00fd",
   "metadata": {},
   "outputs": [],
   "source": [
    "# define k7 (cyclin-P degredation rate: 1e1): \n"
   ]
  },
  {
   "cell_type": "code",
   "execution_count": null,
   "id": "9a16e92c",
   "metadata": {},
   "outputs": [],
   "source": [
    "# define k8 (cdc2 phosphorylation rate: 1e6): \n"
   ]
  },
  {
   "cell_type": "code",
   "execution_count": null,
   "id": "cc4b4f70",
   "metadata": {},
   "outputs": [],
   "source": [
    "# define k9 (cdc2 dephosphorylation rate: 1e3): \n"
   ]
  },
  {
   "cell_type": "markdown",
   "id": "3315c9e3",
   "metadata": {},
   "source": [
    "## Declare Initial Conditions\n",
    "\n",
    "The initial conditions indicate how much non-zero initial species are present at time t = 0 in the system."
   ]
  },
  {
   "cell_type": "code",
   "execution_count": null,
   "id": "81f30acb",
   "metadata": {},
   "outputs": [],
   "source": [
    "# declare initial value (1500 copies) for cyclin: \n"
   ]
  },
  {
   "cell_type": "code",
   "execution_count": null,
   "id": "cdd98571",
   "metadata": {},
   "outputs": [],
   "source": [
    "# declare initial value (6000 copies) for cdc2:\n"
   ]
  },
  {
   "cell_type": "markdown",
   "id": "e238849c",
   "metadata": {},
   "source": [
    "## Declare Rules of the Model\n",
    "\n",
    "Rules define how the individual components (Monomers) of the system interacts with each other.\n",
    "Hint: In this model, all the rules are forward interactions only!"
   ]
  },
  {
   "cell_type": "code",
   "execution_count": null,
   "id": "f9b290e5",
   "metadata": {},
   "outputs": [],
   "source": [
    "# write the rule for de novo cyclin synthesis (None --> cyclin) with rate k1:\n",
    "# Note: synthesized cylin should be in unbound, unphosphorylated form.\n"
   ]
  },
  {
   "cell_type": "code",
   "execution_count": null,
   "id": "3897d0c0",
   "metadata": {},
   "outputs": [],
   "source": [
    "# write the rule for degradation of unstable newly synthesized cyclin (cyclin --> None) with rate k2:\n"
   ]
  },
  {
   "cell_type": "code",
   "execution_count": null,
   "id": "b1fb71ce",
   "metadata": {},
   "outputs": [],
   "source": [
    "# write the rule for pre-Maturation Promoting Factor (MPF) formation \n",
    "# (cyclin + cdc2-P --> cyclin-P:cdc2-P) with rate k3:\n"
   ]
  },
  {
   "cell_type": "code",
   "execution_count": null,
   "id": "5b5d0eb3",
   "metadata": {},
   "outputs": [],
   "source": [
    "# write the rule for reversible MPF activation (cyclin-P:cdc2-P <--> cyclin-P:cdc2) \n",
    "# with forward rate k4 and reverse rate k5:\n"
   ]
  },
  {
   "cell_type": "code",
   "execution_count": null,
   "id": "fa209417",
   "metadata": {},
   "outputs": [],
   "source": [
    "# write the rule for active MPF self-enhancement \n",
    "# (cyclin-P:cdc2 + cyclin-P:cdc2 + cyclin-P:cdc2-P --> cyclin-P:cdc2 + cyclin-P:cdc2 + cyclin-P:cdc2)\n",
    "# with rate k_dash:\n"
   ]
  },
  {
   "cell_type": "code",
   "execution_count": null,
   "id": "182344b4",
   "metadata": {},
   "outputs": [],
   "source": [
    "# write the rule for active MPF destruct (cyclin-P:cdc2 --> cyclin-P + cdc2) with rate k6:\n"
   ]
  },
  {
   "cell_type": "code",
   "execution_count": null,
   "id": "449aae59",
   "metadata": {},
   "outputs": [],
   "source": [
    "# write the rule for cyclin-p degradation (cyclin-P --> None) with rate k7:\n"
   ]
  },
  {
   "cell_type": "code",
   "execution_count": null,
   "id": "c4f57d2c",
   "metadata": {},
   "outputs": [],
   "source": [
    "# write the rule for reversable cdc2 phosphorylation (cdc2 <--> cdc2-P) \n",
    "# with forward k8 and reverse rate k9:\n"
   ]
  },
  {
   "cell_type": "markdown",
   "id": "ae8bd0e3",
   "metadata": {},
   "source": [
    "## Declare the Observables\n",
    "\n",
    "Observables track the system components (Monomers) that we like to monitor and returns after model is simulated."
   ]
  },
  {
   "cell_type": "code",
   "execution_count": null,
   "id": "1dc1f58d",
   "metadata": {},
   "outputs": [],
   "source": [
    "# define observable for total cyclin:\n",
    "# Hint: no matter how many sites/states a monomer has, calling a monomer with an empty paramtheses \n",
    "# will consider all forms of the monomer (e.g. A())\n"
   ]
  },
  {
   "cell_type": "code",
   "execution_count": null,
   "id": "5c16f5fa",
   "metadata": {},
   "outputs": [],
   "source": [
    "# define observable for active cyclin (i.e., the active MPF):\n",
    "# Hint: the observable does not have to be an individual monomer, it can be any complex.\n"
   ]
  },
  {
   "cell_type": "markdown",
   "id": "457ed256",
   "metadata": {},
   "source": [
    "## Simulate the Model"
   ]
  },
  {
   "cell_type": "code",
   "execution_count": null,
   "id": "d7b2d2c3",
   "metadata": {},
   "outputs": [],
   "source": [
    "# Import Scipy Ode Simulator from PySB library\n",
    "from pysb.simulator import ScipyOdeSimulator\n",
    "from pylab import *"
   ]
  },
  {
   "cell_type": "code",
   "execution_count": null,
   "id": "02bff38d",
   "metadata": {},
   "outputs": [],
   "source": [
    "# Create simulation time 0-100 mins with 10000 time-point samples (use linspace(a, b, N)):\n"
   ]
  },
  {
   "cell_type": "code",
   "execution_count": null,
   "id": "0eebfd97",
   "metadata": {},
   "outputs": [],
   "source": [
    "# Input model and time to ScipyOdeSimulator and run the model:\n"
   ]
  },
  {
   "cell_type": "markdown",
   "id": "cb0d409c",
   "metadata": {},
   "source": [
    "## Plot the Simulation Results"
   ]
  },
  {
   "cell_type": "code",
   "execution_count": null,
   "id": "c310bf32",
   "metadata": {},
   "outputs": [],
   "source": [
    "# import matplotlib library\n",
    "%matplotlib inline\n",
    "import matplotlib.pyplot as plt\n",
    "\n",
    "plt.figure(figsize=(10, 6))\n",
    "\n",
    "# Plot total cyclin:\n",
    "\n",
    "# Plot active cyclin (i.e., the active MPF)\n",
    "\n",
    "plt.legend(loc='best')\n",
    "plt.xlabel('time [min]')\n",
    "plt.ylabel('copy number')"
   ]
  }
 ],
 "metadata": {
  "kernelspec": {
   "display_name": "Python 3 (ipykernel)",
   "language": "python",
   "name": "python3"
  },
  "language_info": {
   "codemirror_mode": {
    "name": "ipython",
    "version": 3
   },
   "file_extension": ".py",
   "mimetype": "text/x-python",
   "name": "python",
   "nbconvert_exporter": "python",
   "pygments_lexer": "ipython3",
   "version": "3.9.12"
  }
 },
 "nbformat": 4,
 "nbformat_minor": 5
}
